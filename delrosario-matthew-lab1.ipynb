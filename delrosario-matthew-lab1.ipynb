{
 "cells": [
  {
   "cell_type": "markdown",
   "metadata": {},
   "source": [
    "- Student ID: 170722\n",
    "- Del Rosario\n",
    "- 4 BS CTM"
   ]
  },
  {
   "cell_type": "markdown",
   "metadata": {},
   "source": [
    "# Problem 1\n",
    "(3 Points)\n",
    "\n",
    "Write a program that accepts an amount in US Dollars and converts to Philippine Pesos.\n",
    "\n",
    "The input prompts must be as follows:\n",
    "\n",
    "Enter the amount in US Dollars: \n",
    "\n",
    "The output should be as follows:\n",
    "\n",
    "[us dollar amount] US dollar(s) = [philippine peso amount] Philippine Pesos.\n",
    "\n",
    "You must define a function dollars_to_pesos which accepts the amount in US dollars and returns the amount in Philippine Pesos.\n",
    "\n",
    "Assume, for simplicity, that the conversion rate is PHP50 to USD 1.\n",
    "\n",
    "Sample Input:\n",
    "\n",
    "Enter the amount in US Dollars: 1\n",
    "\n",
    "Sample Output:\n",
    "\n",
    "1 US dollar(s) = 50 Philippine Pesos.\n",
    "\n",
    "Sample Input:\n",
    "\n",
    "Enter the amount in US Dollars: 20\n",
    "\n",
    "Sample Output:\n",
    "\n",
    "20 US dollar(s) = 1000 Philippine Pesos."
   ]
  },
  {
   "cell_type": "code",
   "execution_count": 6,
   "metadata": {},
   "outputs": [
    {
     "name": "stdout",
     "output_type": "stream",
     "text": [
      "Enter the amount in US Dollars: 20\n",
      "20 US dollar(s) = 1000 Philippine Pesos.\n"
     ]
    }
   ],
   "source": [
    "def dollars_to_pesos(usd):\n",
    "    php = usd*50\n",
    "    print(str(usd) + \" US dollar(s) = \" + str(php) + \" Philippine Pesos.\")\n",
    "    \n",
    "usd = int(input('Enter the amount in US Dollars: '))\n",
    "\n",
    "dollars_to_pesos(usd)"
   ]
  },
  {
   "cell_type": "markdown",
   "metadata": {},
   "source": [
    "# Problem 2\n",
    "(3 Points)\n",
    "\n",
    "Write a program that accepts two positive integers, a and b, one per line.\n",
    "\n",
    "The output should be as follows:\n",
    "\n",
    "The first line should be the sum of a and b.\n",
    "\n",
    "The second line should be b subtracted from a.\n",
    "\n",
    "The third line should be the product of a and b.\n",
    "\n",
    "The fourth line should be the quotient when a is divided by b, excluding the remainder.\n",
    "\n",
    "The fifth line should be the remainder when a is divided by b.\n",
    "\n",
    "Sample Input:\n",
    "\n",
    "55\n",
    "3\n",
    "\n",
    "Sample Output:\n",
    "\n",
    "58\n",
    "52\n",
    "165\n",
    "18\n",
    "1\n",
    "\n",
    "\n",
    "Sample Input:\n",
    "\n",
    "128\n",
    "8\n",
    "\n",
    "Sample Output:\n",
    "\n",
    "136\n",
    "120\n",
    "1024\n",
    "16\n",
    "0"
   ]
  },
  {
   "cell_type": "code",
   "execution_count": 9,
   "metadata": {},
   "outputs": [
    {
     "name": "stdout",
     "output_type": "stream",
     "text": [
      "55\n",
      "3\n",
      "Output:\n",
      "58\n",
      "52\n",
      "165\n",
      "18\n",
      "1\n"
     ]
    }
   ],
   "source": [
    "a = int(input())\n",
    "b = int(input())\n",
    "\n",
    "print('Output:')\n",
    "print(a+b)\n",
    "print(a-b)\n",
    "print(a*b)\n",
    "print(a//b)\n",
    "print(a%b)"
   ]
  },
  {
   "cell_type": "markdown",
   "metadata": {},
   "source": [
    "# Problem 3\n",
    "(4 Points)\n",
    "\n",
    "Write a program that computes for your Body Mass Index (BMI). The formula for the BMI is as follows:\n",
    "\n",
    "BMI=kg/m^2\n",
    "\n",
    "where kg is a person's weight in kilograms and m is height in meters.\n",
    "\n",
    "Define a function compute_bmi that accepts kg and m as parameters and returns the BMI.\n",
    "\n",
    "Be sure to convert cm to meters for the formula to work; write a function convert_cm_to_m which accepts a parameter cm and returns the meters. Feel free to Google the conversion.\n",
    "\n",
    "Make sure that the program prompts the user with Enter kg and Enter cm for kg and cm respectively.\n",
    "\n",
    "Your output should be in the form BMI: <computed bmi>\n",
    "\n",
    "Sample Input\n",
    "\n",
    "Enter kg: 65\n",
    "Enter cm: 180\n",
    "\n",
    "Sample Output\n",
    "\n",
    "BMI: 20.061728395061728\n",
    "\n",
    "Sample Input\n",
    "\n",
    "Enter kg: 67\n",
    "Enter cm: 178\n",
    "\n",
    "Sample Output\n",
    "\n",
    "BMI: 21.146319909102385\n",
    "\n",
    "Sample Input\n",
    "\n",
    "Enter kg: 70\n",
    "Enter cm: 170\n",
    "\n",
    "Sample Output\n",
    "\n",
    "BMI: 24.221453287197235"
   ]
  },
  {
   "cell_type": "code",
   "execution_count": 12,
   "metadata": {},
   "outputs": [
    {
     "name": "stdout",
     "output_type": "stream",
     "text": [
      "Enter kg: 50\n",
      "Enter cm: 200\n"
     ]
    },
    {
     "data": {
      "text/plain": [
       "12.5"
      ]
     },
     "execution_count": 12,
     "metadata": {},
     "output_type": "execute_result"
    }
   ],
   "source": [
    "def convert_cm_to_m(cm):\n",
    "    m = cm / 100\n",
    "    return m\n",
    "\n",
    "def compute_bmi(kgs,m):\n",
    "    return kgs / m**2\n",
    "\n",
    "kgs = int(input('Enter kg: '))\n",
    "cm = int(input('Enter cm: '))\n",
    "m = convert_cm_to_m(cm)\n",
    "\n",
    "compute_bmi(kgs,m)"
   ]
  }
 ],
 "metadata": {
  "kernelspec": {
   "display_name": "Python 3",
   "language": "python",
   "name": "python3"
  },
  "language_info": {
   "codemirror_mode": {
    "name": "ipython",
    "version": 3
   },
   "file_extension": ".py",
   "mimetype": "text/x-python",
   "name": "python",
   "nbconvert_exporter": "python",
   "pygments_lexer": "ipython3",
   "version": "3.8.5"
  }
 },
 "nbformat": 4,
 "nbformat_minor": 4
}
